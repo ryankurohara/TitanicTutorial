{
 "cells": [
  {
   "cell_type": "code",
   "execution_count": null,
   "metadata": {
    "collapsed": true
   },
   "outputs": [],
   "source": []
  },
  {
   "cell_type": "code",
   "execution_count": 1,
   "metadata": {
    "collapsed": false
   },
   "outputs": [
    {
     "name": "stdout",
     "output_type": "stream",
     "text": [
      "Proportion of passengers who survived: 0.383838383838\n",
      "Proportion of women who survived: 0.742038216561\n",
      "Proportion of men who survived: 0.188908145581\n"
     ]
    }
   ],
   "source": [
    "# This is my first program in Python\n",
    "# I will be completing the tutorial \n",
    "# called \"Titanic: Machine Learning\n",
    "# from Disaster\"\n",
    "\n",
    "# The csv package is for handling csv files\n",
    "import csv as csv\n",
    "# The numpy package is for arrays and math\n",
    "import numpy as np\n",
    "\n",
    "with open('/Users/ryankkurohara/Downloads/train.csv') as csvfile:\n",
    "    csv_file_object = csv.reader(csvfile)\n",
    "    header = csv_file_object.next()\n",
    "\n",
    "    data = []\n",
    "    for row in csv_file_object:\n",
    "        data.append(row)\n",
    "        \n",
    "data = np.array(data)\n",
    "\n",
    "# Calculates the proportion of passengers who survived\n",
    "number_of_passengers = np.size(data[:,1].astype(np.float))\n",
    "number_of_survivors = np.sum(data[:,1].astype(np.float))\n",
    "proportion_of_survivors = number_of_survivors / number_of_passengers\n",
    "print 'Proportion of passengers who survived: %s' % proportion_of_survivors\n",
    "    \n",
    "# Splits up women and men\n",
    "women_stats = data[:,4] == 'female'\n",
    "men_stats = data[:,4] == 'male'\n",
    "\n",
    "# Calculates the proportion of women/men who survived\n",
    "women_onboard = data[women_stats,1].astype(np.float)\n",
    "men_onboard = data[men_stats,1].astype(np.float)\n",
    "proportion_women_survived = np.sum(women_onboard) / np.size(women_onboard)\n",
    "proportion_men_survived = np.sum(men_onboard) / np.size(men_onboard)\n",
    "print 'Proportion of women who survived: %s' % proportion_women_survived\n",
    "print 'Proportion of men who survived: %s' % proportion_men_survived\n",
    "\n",
    "# Open the test file\n",
    "test_file = open('/Users/ryankkurohara/Downloads/test.csv')\n",
    "test_file_object = csv.reader(test_file)\n",
    "header = test_file_object.next()\n",
    "    \n",
    "# Open the prediction file\n",
    "prediction_file = open(\"genderbasedmodelPYTHON.csv\", \"wb\")\n",
    "prediction_file_object = csv.writer(prediction_file)\n",
    "\n",
    "# Write the prediction file based on gender\n",
    "prediction_file_object.writerow(['PassengerId','Survived'])\n",
    "for row in test_file_object:\n",
    "    if row[3] == 'female':\n",
    "        prediction_file_object.writerow([row[0],'1'])\n",
    "    else:\n",
    "        prediction_file_object.writerow([row[0],'0'])\n",
    "\n",
    "# Close files\n",
    "test_file.close()\n",
    "prediction_file.close()\n",
    "        \n",
    "\n",
    "\n",
    "\n"
   ]
  }
 ],
 "metadata": {
  "kernelspec": {
   "display_name": "Python 2",
   "language": "python",
   "name": "python2"
  },
  "language_info": {
   "codemirror_mode": {
    "name": "ipython",
    "version": 2
   },
   "file_extension": ".py",
   "mimetype": "text/x-python",
   "name": "python",
   "nbconvert_exporter": "python",
   "pygments_lexer": "ipython2",
   "version": "2.7.11"
  }
 },
 "nbformat": 4,
 "nbformat_minor": 0
}
